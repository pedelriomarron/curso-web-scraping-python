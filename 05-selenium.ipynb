{
 "cells": [
  {
   "cell_type": "markdown",
   "metadata": {},
   "source": [
    "# Libreria Selenium"
   ]
  },
  {
   "cell_type": "code",
   "execution_count": 2,
   "metadata": {},
   "outputs": [
    {
     "name": "stdout",
     "output_type": "stream",
     "text": [
      "Requirement already up-to-date: selenium in c:\\users\\pedel\\anaconda3\\lib\\site-packages (3.141.0)\n",
      "Requirement already satisfied, skipping upgrade: urllib3 in c:\\users\\pedel\\anaconda3\\lib\\site-packages (from selenium) (1.24.2)\n"
     ]
    }
   ],
   "source": [
    "# Instalacion de la libreria selenium\n",
    "import sys\n",
    "!{sys.executable} -m pip install -U selenium"
   ]
  },
  {
   "cell_type": "code",
   "execution_count": 50,
   "metadata": {},
   "outputs": [
    {
     "name": "stdout",
     "output_type": "stream",
     "text": [
      "Iniciando Scraper\n"
     ]
    }
   ],
   "source": [
    "#!/usr/bin/env python\n",
    "# -*- coding: utf-8 -*-\n",
    "# Scrapper de las estaciones de la red SIAR\n",
    "\n",
    "print('Iniciando Scraper')\n",
    "import zipfile\n",
    "import os\n",
    "from selenium import webdriver\n",
    "from selenium.webdriver.common.keys import Keys\n",
    "import time\n",
    "\n",
    "## Emulacion de navegador\n",
    "chromeOptions = webdriver.ChromeOptions()\n",
    "prefs = {\"download.default_directory\" : os.getcwd()+\"\\\\resultados\\\\\"} # Cambiamos la carpeta en la que se descargará el fichero\n",
    "chromeOptions.add_experimental_option(\"prefs\",prefs)\n",
    "driver = webdriver.Chrome(\"chromedriver.exe\",options=chromeOptions)\n",
    "driver.get('http://eportal.mapama.gob.es/websiar/SeleccionParametrosMap.aspx?dst=1') # Web de la que queremos extraer datos\n",
    "\n",
    "#selecionar el name\n",
    "string_ccaa = 'select[name=\"ctl00$ContentPlaceHolder1$DropDownListCCAA\"] option[value=\"8\"]'\n",
    "# Busca en el navegador simulado el campo con ese nombre\n",
    "desplegable_ccaa = driver.find_element_by_css_selector(string_ccaa)\n",
    "# Hace click\n",
    "click_desplegable_ccaa = desplegable_ccaa.click()\n",
    "\n",
    "#Parar para responda el navegador como humano y se sincronicen los campos\n",
    "time.sleep(2)\n",
    "\n",
    "string_provincia = 'select[name=\"ctl00$ContentPlaceHolder1$DropDownListProvincia\"] option[value=\"50\"]'\n",
    "# Busca en el navegador simulado el campo con ese nombre\n",
    "desplegable_provincia = driver.find_element_by_css_selector(string_provincia)\n",
    "# Hace click\n",
    "click_desplegable_provincia = desplegable_provincia.click()\n",
    "\n",
    "\n",
    "time.sleep(0.5)\n",
    "\n",
    "driver.find_element_by_id('txtFechaIni').clear() # Borra la fecha de inicio por defecto\n",
    "\n",
    "time.sleep(0.5)\n",
    "\n",
    "driver.find_element_by_id('txtFechaFin').clear() # Borra la fecha fin por defecto\n",
    "\n",
    "time.sleep(2)\n",
    "\n",
    "inputElement = driver.find_element_by_id(\"txtFechaIni\")\n",
    "inputElement.send_keys('10/11/2018') # Fecha de Inicio\n",
    "\n",
    "time.sleep(2)\n",
    "\n",
    "inputElement = driver.find_element_by_id(\"txtFechaFin\")\n",
    "inputElement.send_keys('15/11/2018') # Fecha de fin\n",
    "\n",
    "\n",
    "time.sleep(2)\n",
    "\n",
    "#Click al boton\n",
    "agregar_estacion =  driver.find_element_by_css_selector('input[name=\"ctl00$ContentPlaceHolder1$ButtonAgregar\"]')\n",
    "click_agregar_estacion = agregar_estacion.click()\n",
    "\n",
    "time.sleep(2)\n",
    "\n",
    "#Click al submit\n",
    "consultarDatos_button =  driver.find_element_by_css_selector('input[name=\"ctl00$ContentPlaceHolder1$btnConsultar\"]')\n",
    "consultarDatos_click = consultarDatos_button.click()\n",
    "\n",
    "time.sleep(2)\n",
    "# Switchear la siguiente ventana\n",
    "driver.switch_to.window(driver.window_handles[1])\n",
    "exportar_csv_link = driver.find_element_by_css_selector('a[id=\"ContentPlaceHolder1_ExportarCSV\"]')\n",
    "descargar_csv = exportar_csv_link.click()\n",
    "\n",
    "time.sleep(2)\n",
    "#Cerramos\n",
    "driver.quit()\n",
    "\n",
    "\n",
    "# Busca el archivo  zip\n",
    "zip_ref = zipfile.ZipFile(os.getcwd()+'\\\\resultados\\\\InformeDatos.zip','r') \n",
    "#Extrae todo a la carpeta resultados\n",
    "zip_ref.extractall(os.getcwd()+'\\\\resultados\\\\')\n",
    "zip_ref.close()\n",
    "time.sleep(2)\n",
    "#Borra el archivo\n",
    "#os.remove(os.getcwd()+'\\\\resultados\\\\InformeDatos.zip')\n",
    "\n",
    "\n",
    "\n"
   ]
  }
 ],
 "metadata": {
  "kernelspec": {
   "display_name": "Python 3",
   "language": "python",
   "name": "python3"
  },
  "language_info": {
   "codemirror_mode": {
    "name": "ipython",
    "version": 3
   },
   "file_extension": ".py",
   "mimetype": "text/x-python",
   "name": "python",
   "nbconvert_exporter": "python",
   "pygments_lexer": "ipython3",
   "version": "3.7.3"
  }
 },
 "nbformat": 4,
 "nbformat_minor": 2
}
