{
 "cells": [
  {
   "cell_type": "code",
   "execution_count": 1,
   "metadata": {},
   "outputs": [
    {
     "name": "stdout",
     "output_type": "stream",
     "text": [
      "Introduca las siglas del pais ( por ejemplo ES) :ES\n",
      "A Coruña\n",
      "Albacete\n",
      "Alcala De Guadaira\n",
      "Algeciras\n",
      "Alicante/Alacant\n",
      "Almeria\n",
      "Almería\n",
      "Almonte\n",
      "Araba/Álava\n",
      "Arcos De La Frontera\n",
      "Armilla\n",
      "Asturias\n",
      "Ávila\n",
      "Ayto Madrid\n",
      "Ayto Zaragoza\n",
      "Badajoz\n",
      "Bailen\n",
      "Barcelona\n",
      "Barrios (Los)\n",
      "Bedar\n",
      "Benahadux\n",
      "Bizkaia\n",
      "Burgos\n",
      "Cáceres\n",
      "Cadiz\n",
      "Cádiz\n",
      "Campillos\n",
      "Cantabria\n",
      "Carboneras\n",
      "Castellón/Castelló\n",
      "CCAA Andaluc�a\n",
      "CCAA Andalucía\n",
      "CCAA Arag�n\n",
      "CCAA Aragón\n",
      "CCAA Asturias\n",
      "CCAA Cantabria\n",
      "CCAA Castilla y Le�n\n",
      "CCAA Castilla y León\n",
      "CCAA Cast. la Mancha\n",
      "CCAA Catalu�a\n",
      "CCAA Cataluña\n",
      "CCAA Com. Valenciana\n",
      "CCAA Extremadura\n",
      "CCAA Galicia\n",
      "CCAA Islas Baleares\n",
      "CCAA La Rioja\n",
      "CCAA Madrid\n",
      "CCAA Murcia\n",
      "CCAA Navarra\n",
      "CCAA País Vasco\n"
     ]
    }
   ],
   "source": [
    "import urllib.request\n",
    "import json\n",
    "\n",
    "url1 = 'https://api.openaq.org/v1/cities'\n",
    "\n",
    "pais = input ('Introduca las siglas del pais ( por ejemplo ES) :')\n",
    "\n",
    "url2 = url1+ '?country=' + pais\n",
    "\n",
    "datos = urllib.request.urlopen(url2).read().decode()\n",
    "\n",
    "js = json.loads(datos)\n",
    "\n",
    "for k in range(50):\n",
    "    city = js['results'][k]['city']\n",
    "    print(city)\n",
    "\n"
   ]
  },
  {
   "cell_type": "code",
   "execution_count": 11,
   "metadata": {},
   "outputs": [
    {
     "name": "stdout",
     "output_type": "stream",
     "text": [
      "Introduca una ciudad :Cordoba\n",
      "EL valor de so2  en  Cordoba  es de 7 µg/m³\n"
     ]
    }
   ],
   "source": [
    "ciudad = pais = input ('Introduca una ciudad :')\n",
    "url2 = 'https://api.openaq.org/v1/latest'\n",
    "url = url2+'?limit=1&city='+ciudad\n",
    "\n",
    "data = urllib.request.urlopen(url).read().decode()\n",
    "js = json.loads(data)\n",
    "parameter = js['results'][0]['measurements'][0]['parameter']\n",
    "valor = js['results'][0]['measurements'][0]['value']\n",
    "unit = js['results'][0]['measurements'][0]['unit']\n",
    "\n",
    "print('EL valor de',parameter,' en ', ciudad,' es de',valor,unit)"
   ]
  },
  {
   "cell_type": "code",
   "execution_count": null,
   "metadata": {},
   "outputs": [],
   "source": []
  },
  {
   "cell_type": "code",
   "execution_count": null,
   "metadata": {},
   "outputs": [],
   "source": []
  }
 ],
 "metadata": {
  "kernelspec": {
   "display_name": "Python 3",
   "language": "python",
   "name": "python3"
  },
  "language_info": {
   "codemirror_mode": {
    "name": "ipython",
    "version": 3
   },
   "file_extension": ".py",
   "mimetype": "text/x-python",
   "name": "python",
   "nbconvert_exporter": "python",
   "pygments_lexer": "ipython3",
   "version": "3.7.3"
  }
 },
 "nbformat": 4,
 "nbformat_minor": 2
}
